{
 "cells": [
  {
   "cell_type": "code",
   "execution_count": 1,
   "id": "2127e5a1",
   "metadata": {},
   "outputs": [
    {
     "data": {
      "text/plain": [
       "'Akarshit kashyap'"
      ]
     },
     "execution_count": 1,
     "metadata": {},
     "output_type": "execute_result"
    }
   ],
   "source": [
    "#author @Akarshit kashyap\n",
    "\n",
    "# Using quotation marks for defining string\n",
    "\"Akarshit kashyap\""
   ]
  },
  {
   "cell_type": "code",
   "execution_count": 2,
   "id": "5c9bbb8c",
   "metadata": {},
   "outputs": [
    {
     "data": {
      "text/plain": [
       "'Akarshit kashyap'"
      ]
     },
     "execution_count": 2,
     "metadata": {},
     "output_type": "execute_result"
    }
   ],
   "source": [
    "#using single quotation marks for defining string\n",
    "'Akarshit kashyap'"
   ]
  },
  {
   "cell_type": "code",
   "execution_count": 3,
   "id": "3266f31a",
   "metadata": {},
   "outputs": [
    {
     "data": {
      "text/plain": [
       "'1 2 3 4 5 6 '"
      ]
     },
     "execution_count": 3,
     "metadata": {},
     "output_type": "execute_result"
    }
   ],
   "source": [
    "# Digitals and spaces in string \n",
    "'1 2 3 4 5 6 '"
   ]
  },
  {
   "cell_type": "code",
   "execution_count": 4,
   "id": "a4daec2a",
   "metadata": {},
   "outputs": [
    {
     "data": {
      "text/plain": [
       "'@#2_#&*^%$'"
      ]
     },
     "execution_count": 4,
     "metadata": {},
     "output_type": "execute_result"
    }
   ],
   "source": [
    "# Special characters in string\n",
    "'@#2_#&*^%$'"
   ]
  },
  {
   "cell_type": "code",
   "execution_count": 5,
   "id": "4d66ddc6",
   "metadata": {},
   "outputs": [
    {
     "name": "stdout",
     "output_type": "stream",
     "text": [
      "Hi everyone\n"
     ]
    }
   ],
   "source": [
    "# print the string\n",
    "print(\"Hi everyone\")"
   ]
  },
  {
   "cell_type": "code",
   "execution_count": 6,
   "id": "c2ea4153",
   "metadata": {},
   "outputs": [
    {
     "data": {
      "text/plain": [
       "'Akarshit kashyap'"
      ]
     },
     "execution_count": 6,
     "metadata": {},
     "output_type": "execute_result"
    }
   ],
   "source": [
    "# Assign string to variable \n",
    "name = \"Akarshit kashyap\"\n",
    "name"
   ]
  },
  {
   "cell_type": "code",
   "execution_count": 7,
   "id": "876c5b82",
   "metadata": {},
   "outputs": [
    {
     "name": "stdout",
     "output_type": "stream",
     "text": [
      "A\n"
     ]
    }
   ],
   "source": [
    "# print the first element in the string\n",
    "\n",
    "print(name[0])"
   ]
  },
  {
   "cell_type": "code",
   "execution_count": 8,
   "id": "00a8a028",
   "metadata": {},
   "outputs": [
    {
     "name": "stdout",
     "output_type": "stream",
     "text": [
      "i\n"
     ]
    }
   ],
   "source": [
    "# print 6 element\n",
    "print(name[6])"
   ]
  },
  {
   "cell_type": "code",
   "execution_count": 9,
   "id": "7fac502a",
   "metadata": {},
   "outputs": [
    {
     "name": "stdout",
     "output_type": "stream",
     "text": [
      "y\n"
     ]
    }
   ],
   "source": [
    "# pr13nt 13 element \n",
    "print(name[13])"
   ]
  },
  {
   "cell_type": "code",
   "execution_count": 10,
   "id": "77759448",
   "metadata": {},
   "outputs": [
    {
     "name": "stdout",
     "output_type": "stream",
     "text": [
      "p\n"
     ]
    }
   ],
   "source": [
    "# priting the negative strings last element\n",
    "print(name[-1])"
   ]
  },
  {
   "cell_type": "code",
   "execution_count": 11,
   "id": "4682d5ec",
   "metadata": {},
   "outputs": [
    {
     "name": "stdout",
     "output_type": "stream",
     "text": [
      "k\n"
     ]
    }
   ],
   "source": [
    "# print first element of string \n",
    "print(name[-15])"
   ]
  },
  {
   "cell_type": "code",
   "execution_count": 12,
   "id": "5ca3e655",
   "metadata": {},
   "outputs": [
    {
     "data": {
      "text/plain": [
       "16"
      ]
     },
     "execution_count": 12,
     "metadata": {},
     "output_type": "execute_result"
    }
   ],
   "source": [
    "# find the length of string\n",
    "len(\"AKarshit kashyap\")"
   ]
  },
  {
   "cell_type": "code",
   "execution_count": 13,
   "id": "3354a378",
   "metadata": {},
   "outputs": [
    {
     "data": {
      "text/plain": [
       "'Akar'"
      ]
     },
     "execution_count": 13,
     "metadata": {},
     "output_type": "execute_result"
    }
   ],
   "source": [
    "# taking a slice on variable 0 to index 3\n",
    "name[0:4]"
   ]
  },
  {
   "cell_type": "code",
   "execution_count": 14,
   "id": "ebdea4a2",
   "metadata": {},
   "outputs": [
    {
     "data": {
      "text/plain": [
       "' ka'"
      ]
     },
     "execution_count": 14,
     "metadata": {},
     "output_type": "execute_result"
    }
   ],
   "source": [
    "# index 8 t o11\n",
    "name[8:11]"
   ]
  },
  {
   "cell_type": "code",
   "execution_count": 15,
   "id": "88dbb2a8",
   "metadata": {},
   "outputs": [
    {
     "data": {
      "text/plain": [
       "'Aasi aha'"
      ]
     },
     "execution_count": 15,
     "metadata": {},
     "output_type": "execute_result"
    }
   ],
   "source": [
    "# getting every second element on index for eg 1 , 3 ,5\n",
    "name[::2]"
   ]
  },
  {
   "cell_type": "code",
   "execution_count": 16,
   "id": "0e489bac",
   "metadata": {},
   "outputs": [
    {
     "data": {
      "text/plain": [
       "'Aas'"
      ]
     },
     "execution_count": 16,
     "metadata": {},
     "output_type": "execute_result"
    }
   ],
   "source": [
    "# element in the range index 0 to 4\n",
    "name[0:5:2]"
   ]
  },
  {
   "cell_type": "code",
   "execution_count": 17,
   "id": "dc57de74",
   "metadata": {},
   "outputs": [
    {
     "data": {
      "text/plain": [
       "'Akarshit kashyapis the best'"
      ]
     },
     "execution_count": 17,
     "metadata": {},
     "output_type": "execute_result"
    }
   ],
   "source": [
    "# concatenate two strings\n",
    "statement = name + \"is the best\"\n",
    "statement"
   ]
  },
  {
   "cell_type": "code",
   "execution_count": 18,
   "id": "3cfb6c05",
   "metadata": {},
   "outputs": [
    {
     "data": {
      "text/plain": [
       "'Akarshit kashyapAkarshit kashyapAkarshit kashyap'"
      ]
     },
     "execution_count": 18,
     "metadata": {},
     "output_type": "execute_result"
    }
   ],
   "source": [
    "# print the string for 3 times\n",
    "3 * \"Akarshit kashyap\""
   ]
  },
  {
   "cell_type": "code",
   "execution_count": 19,
   "id": "fc16714c",
   "metadata": {},
   "outputs": [
    {
     "data": {
      "text/plain": [
       "'Akarshit kashyap is the best'"
      ]
     },
     "execution_count": 19,
     "metadata": {},
     "output_type": "execute_result"
    }
   ],
   "source": [
    "name = \"Akarshit kashyap\"\n",
    "name = name + \" is the best\"\n",
    "name"
   ]
  },
  {
   "cell_type": "code",
   "execution_count": 20,
   "id": "3192f00a",
   "metadata": {},
   "outputs": [
    {
     "name": "stdout",
     "output_type": "stream",
     "text": [
      "AKarshit kashypa \n",
      " is the best\n"
     ]
    }
   ],
   "source": [
    "# new line escape sequence \n",
    "print(\"AKarshit kashypa \\n is the best\")"
   ]
  },
  {
   "cell_type": "code",
   "execution_count": 21,
   "id": "2a673499",
   "metadata": {},
   "outputs": [
    {
     "name": "stdout",
     "output_type": "stream",
     "text": [
      "Akarshit kashyap \t is the best\n"
     ]
    }
   ],
   "source": [
    "# tab eascape sequence\n",
    "print(\"Akarshit kashyap \\t is the best\")"
   ]
  },
  {
   "cell_type": "code",
   "execution_count": 22,
   "id": "2ad0828f",
   "metadata": {},
   "outputs": [
    {
     "name": "stdout",
     "output_type": "stream",
     "text": [
      "Akarshit kashyap \\ is the best\n"
     ]
    }
   ],
   "source": [
    "# include basck slast in string \n",
    "print(\"Akarshit kashyap \\\\ is the best\")"
   ]
  },
  {
   "cell_type": "code",
   "execution_count": 23,
   "id": "c3ffb571",
   "metadata": {},
   "outputs": [
    {
     "name": "stdout",
     "output_type": "stream",
     "text": [
      "Akarshit kashyap \\ is the best\n"
     ]
    }
   ],
   "source": [
    "# r will tell that string will be play as raw string\n",
    "print(r\"Akarshit kashyap \\ is the best\")"
   ]
  },
  {
   "cell_type": "code",
   "execution_count": 24,
   "id": "87a97538",
   "metadata": {},
   "outputs": [
    {
     "name": "stdout",
     "output_type": "stream",
     "text": [
      "before upper: bawa chale kailash ki aur\n",
      "After upper: BAWA CHALE KAILASH KI AUR\n"
     ]
    }
   ],
   "source": [
    "a = \"bawa chale kailash ki aur\"\n",
    "print(\"before upper:\", a)\n",
    "b = a.upper()\n",
    "print(\"After upper:\", b)"
   ]
  },
  {
   "cell_type": "code",
   "execution_count": 25,
   "id": "0949fd5c",
   "metadata": {},
   "outputs": [
    {
     "data": {
      "text/plain": [
       "'Akarshit kashyap is the best'"
      ]
     },
     "execution_count": 25,
     "metadata": {},
     "output_type": "execute_result"
    }
   ],
   "source": [
    "a = \"Akarshit kashyap is the best\"\n",
    "b = a.replace('AKarshit', 'bawa')\n",
    "b"
   ]
  },
  {
   "cell_type": "code",
   "execution_count": 26,
   "id": "4673d054",
   "metadata": {},
   "outputs": [
    {
     "data": {
      "text/plain": [
       "-1"
      ]
     },
     "execution_count": 26,
     "metadata": {},
     "output_type": "execute_result"
    }
   ],
   "source": [
    "# finr the subtring in the string\n",
    "name = \"Akarshit kashyap\"\n",
    "name.find('el')"
   ]
  },
  {
   "cell_type": "code",
   "execution_count": 27,
   "id": "9d186a31",
   "metadata": {},
   "outputs": [
    {
     "data": {
      "text/plain": [
       "-1"
      ]
     },
     "execution_count": 27,
     "metadata": {},
     "output_type": "execute_result"
    }
   ],
   "source": [
    "name.find('jack')"
   ]
  },
  {
   "cell_type": "code",
   "execution_count": 28,
   "id": "3bf8eab6",
   "metadata": {},
   "outputs": [
    {
     "ename": "AttributeError",
     "evalue": "'str' object has no attribute 'fine'",
     "output_type": "error",
     "traceback": [
      "\u001b[1;31m---------------------------------------------------------------------------\u001b[0m",
      "\u001b[1;31mAttributeError\u001b[0m                            Traceback (most recent call last)",
      "\u001b[1;32m~\\AppData\\Local\\Temp\\ipykernel_15652\\3030884281.py\u001b[0m in \u001b[0;36m<module>\u001b[1;34m\u001b[0m\n\u001b[1;32m----> 1\u001b[1;33m \u001b[0mname\u001b[0m\u001b[1;33m.\u001b[0m\u001b[0mfine\u001b[0m\u001b[1;33m(\u001b[0m\u001b[1;34m'kash'\u001b[0m\u001b[1;33m)\u001b[0m\u001b[1;33m\u001b[0m\u001b[1;33m\u001b[0m\u001b[0m\n\u001b[0m",
      "\u001b[1;31mAttributeError\u001b[0m: 'str' object has no attribute 'fine'"
     ]
    }
   ],
   "source": [
    "name.fine('kash')"
   ]
  },
  {
   "cell_type": "code",
   "execution_count": 29,
   "id": "c3ee36ad",
   "metadata": {},
   "outputs": [
    {
     "data": {
      "text/plain": [
       "9"
      ]
     },
     "execution_count": 29,
     "metadata": {},
     "output_type": "execute_result"
    }
   ],
   "source": [
    "name.find('kash')"
   ]
  },
  {
   "cell_type": "code",
   "execution_count": 30,
   "id": "525227bd",
   "metadata": {},
   "outputs": [
    {
     "data": {
      "text/plain": [
       "-1"
      ]
     },
     "execution_count": 30,
     "metadata": {},
     "output_type": "execute_result"
    }
   ],
   "source": [
    "name.find('attubawa')"
   ]
  },
  {
   "cell_type": "code",
   "execution_count": 31,
   "id": "4b37c75c",
   "metadata": {},
   "outputs": [
    {
     "data": {
      "text/plain": [
       "'1'"
      ]
     },
     "execution_count": 31,
     "metadata": {},
     "output_type": "execute_result"
    }
   ],
   "source": [
    "a = \"1\"\n",
    "a"
   ]
  },
  {
   "cell_type": "code",
   "execution_count": 32,
   "id": "062aab92",
   "metadata": {},
   "outputs": [
    {
     "data": {
      "text/plain": [
       "'2'"
      ]
     },
     "execution_count": 32,
     "metadata": {},
     "output_type": "execute_result"
    }
   ],
   "source": [
    "b = \"2\"\n",
    "b"
   ]
  },
  {
   "cell_type": "code",
   "execution_count": 33,
   "id": "6d7ce662",
   "metadata": {},
   "outputs": [],
   "source": [
    "c = a+ b"
   ]
  },
  {
   "cell_type": "code",
   "execution_count": 34,
   "id": "42d510b3",
   "metadata": {},
   "outputs": [
    {
     "data": {
      "text/plain": [
       "'12'"
      ]
     },
     "execution_count": 34,
     "metadata": {},
     "output_type": "execute_result"
    }
   ],
   "source": [
    "c"
   ]
  },
  {
   "cell_type": "code",
   "execution_count": 35,
   "id": "10e99e6b",
   "metadata": {},
   "outputs": [
    {
     "data": {
      "text/plain": [
       "'Aabchre'"
      ]
     },
     "execution_count": 35,
     "metadata": {},
     "output_type": "execute_result"
    }
   ],
   "source": [
    "d = \"Aabchre\"\n",
    "d"
   ]
  },
  {
   "cell_type": "code",
   "execution_count": 36,
   "id": "27d58a1e",
   "metadata": {},
   "outputs": [
    {
     "data": {
      "text/plain": [
       "'akarshitbhai'"
      ]
     },
     "execution_count": 36,
     "metadata": {},
     "output_type": "execute_result"
    }
   ],
   "source": [
    "e = 'akarshitbhai'\n",
    "e"
   ]
  },
  {
   "cell_type": "code",
   "execution_count": 37,
   "id": "48c5e9b3",
   "metadata": {},
   "outputs": [
    {
     "name": "stdout",
     "output_type": "stream",
     "text": [
      "aasiba\n"
     ]
    }
   ],
   "source": [
    "print(e[::2])"
   ]
  },
  {
   "cell_type": "code",
   "execution_count": 38,
   "id": "fd46d7cb",
   "metadata": {},
   "outputs": [
    {
     "name": "stdout",
     "output_type": "stream",
     "text": [
      "\\\"\n"
     ]
    }
   ],
   "source": [
    "print(r\"\\\"\")"
   ]
  },
  {
   "cell_type": "code",
   "execution_count": 39,
   "id": "1babf5c6",
   "metadata": {},
   "outputs": [
    {
     "data": {
      "text/plain": [
       "'BHAI SHI HAI'"
      ]
     },
     "execution_count": 39,
     "metadata": {},
     "output_type": "execute_result"
    }
   ],
   "source": [
    "f= \"bhai shi hai\"\n",
    "f.upper()"
   ]
  },
  {
   "cell_type": "code",
   "execution_count": 40,
   "id": "4b0bc69c",
   "metadata": {},
   "outputs": [
    {
     "data": {
      "text/plain": [
       "95"
      ]
     },
     "execution_count": 40,
     "metadata": {},
     "output_type": "execute_result"
    }
   ],
   "source": [
    "g = \"Mary had a little lamb Little lamb, little lamb Mary had a little lamb \\\n",
    "Its fleece was white as snow And everywhere that Mary went Mary went, Mary went \\\n",
    "Everywhere that Mary went The lamb was sure to go\"\n",
    "g.find(\"snow\")"
   ]
  },
  {
   "cell_type": "code",
   "execution_count": 41,
   "id": "91ed6860",
   "metadata": {},
   "outputs": [],
   "source": [
    "g = \" Mary with bob\""
   ]
  },
  {
   "cell_type": "code",
   "execution_count": 42,
   "id": "78ce8330",
   "metadata": {},
   "outputs": [
    {
     "data": {
      "text/plain": [
       "' bob with bob'"
      ]
     },
     "execution_count": 42,
     "metadata": {},
     "output_type": "execute_result"
    }
   ],
   "source": [
    "g.replace(\"Mary\", \"bob\")"
   ]
  },
  {
   "cell_type": "code",
   "execution_count": null,
   "id": "51a1c290",
   "metadata": {},
   "outputs": [],
   "source": []
  }
 ],
 "metadata": {
  "kernelspec": {
   "display_name": "Python 3 (ipykernel)",
   "language": "python",
   "name": "python3"
  },
  "language_info": {
   "codemirror_mode": {
    "name": "ipython",
    "version": 3
   },
   "file_extension": ".py",
   "mimetype": "text/x-python",
   "name": "python",
   "nbconvert_exporter": "python",
   "pygments_lexer": "ipython3",
   "version": "3.9.13"
  }
 },
 "nbformat": 4,
 "nbformat_minor": 5
}
